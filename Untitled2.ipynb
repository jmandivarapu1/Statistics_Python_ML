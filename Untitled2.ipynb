{
 "cells": [
  {
   "cell_type": "code",
   "execution_count": 33,
   "metadata": {
    "collapsed": false
   },
   "outputs": [],
   "source": [
    "def createMatrix(rowCount, colCount, dataList):\n",
    "    mat = []\n",
    "    for i in range(rowCount):\n",
    "        rowList = []\n",
    "        for j in range(colCount):\n",
    "            # you need to increment through dataList here, like this:\n",
    "            rowList.append(dataList[rowCount * i + j])\n",
    "        mat.append(rowList)\n",
    "\n",
    "    return mat"
   ]
  },
  {
   "cell_type": "code",
   "execution_count": 37,
   "metadata": {
    "collapsed": false
   },
   "outputs": [
    {
     "name": "stdout",
     "output_type": "stream",
     "text": [
      "[[0.15, 0.875, 0.375], [-0.55, 0.005, 0.225], [0.3, 0.12, 0.4]]\n"
     ]
    }
   ],
   "source": [
    "alpha = [0.15, 0.875,0.375,-0.55,0.005,0.225,0.30,0.12,0.4]\n",
    "mat = createMatrix(3,3,alpha)\n",
    "print (mat)"
   ]
  },
  {
   "cell_type": "code",
   "execution_count": 54,
   "metadata": {
    "collapsed": false
   },
   "outputs": [
    {
     "name": "stdout",
     "output_type": "stream",
     "text": [
      "0 0\n",
      "0 1\n",
      "0 2\n",
      "1 0\n",
      "-0.55\n",
      "1 1\n",
      "1 2\n",
      "2 0\n",
      "2 1\n",
      "2 2\n"
     ]
    }
   ],
   "source": [
    "for i in range(0,3):\n",
    "    sum1=0\n",
    "    break1=0\n",
    "    if break1==1:\n",
    "        break\n",
    "    for j in range(0,3):\n",
    "        sum1=sum1+ mat[i][j]\n",
    "        print(i,j)\n",
    "        if mat[i][j]<0:\n",
    "            print(mat[i][j])\n",
    "            break1=1\n",
    "        if j==3 and sum1!=1:\n",
    "            break\n",
    "                "
   ]
  },
  {
   "cell_type": "code",
   "execution_count": 56,
   "metadata": {
    "collapsed": false
   },
   "outputs": [],
   "source": [
    "class stack(object):\n",
    "    def __init__(self):\n",
    "        self.data = []\n",
    "\n",
    "    def pop(self):\n",
    "        if self.isEmpty():\n",
    "            print (\"Nothing to remove from stack\")\n",
    "            return None\n",
    "        return self.data.pop()\n",
    "\n",
    "    def push(self, item):\n",
    "        self.data.append(item)\n",
    "\n",
    "    def isEmpty(self):\n",
    "        if len(self.data) == 0:\n",
    "            return True\n",
    "        return False\n"
   ]
  },
  {
   "cell_type": "code",
   "execution_count": 62,
   "metadata": {
    "collapsed": false
   },
   "outputs": [],
   "source": [
    "s = stack()\n",
    "s.push(1)\n",
    "s.push(2)\n",
    "s.push(3)\n",
    "\n"
   ]
  },
  {
   "cell_type": "code",
   "execution_count": 63,
   "metadata": {
    "collapsed": false
   },
   "outputs": [
    {
     "data": {
      "text/plain": [
       "[1, 2, 3]"
      ]
     },
     "execution_count": 63,
     "metadata": {},
     "output_type": "execute_result"
    }
   ],
   "source": [
    "s.data"
   ]
  },
  {
   "cell_type": "code",
   "execution_count": 73,
   "metadata": {
    "collapsed": false
   },
   "outputs": [],
   "source": [
    "MyStack = []\n",
    "StackSize = 5\n",
    "def DisplayStack():\n",
    "    print(\"Stack currently contains:\")\n",
    "    for Item in MyStack:\n",
    "            print(Item)\n",
    "def Push(Value):\n",
    "     if len(MyStack) < StackSize:\n",
    "            MyStack.append(Value)\n",
    "     else:\n",
    "        print(\"Stack is full!\")\n",
    "def Pop():\n",
    "    if len(MyStack) > 0:\n",
    "        MyStack.pop()\n",
    "    else:\n",
    "        print(\"Stack is empty.\")"
   ]
  },
  {
   "cell_type": "code",
   "execution_count": 78,
   "metadata": {
    "collapsed": false
   },
   "outputs": [
    {
     "name": "stdout",
     "output_type": "stream",
     "text": [
      "enter the input string: abc\n",
      "enter the input string: def\n",
      "enter the input string: jkl\n",
      "enter the input string: mno\n",
      "enter the input string: pqr\n",
      "pqr \n",
      "mno \n",
      "jkl \n",
      "def \n",
      "abc \n"
     ]
    }
   ],
   "source": [
    "for i in range(0,5):\n",
    "    Push(input(\"enter the input string: \"))\n",
    "while len(MyStack)>0:\n",
    "    print(MyStack.pop() + \" \")\n"
   ]
  },
  {
   "cell_type": "code",
   "execution_count": 79,
   "metadata": {
    "collapsed": false
   },
   "outputs": [
    {
     "name": "stdout",
     "output_type": "stream",
     "text": [
      "Stack currently contains:\n"
     ]
    }
   ],
   "source": [
    "\n",
    "DisplayStack()"
   ]
  },
  {
   "cell_type": "code",
   "execution_count": 116,
   "metadata": {
    "collapsed": false
   },
   "outputs": [],
   "source": [
    "class LinearEquation:\n",
    "    def __init__(self, x1, y1, x2, y2, x3, y3,x4,y4):\n",
    "        ua=float((x4-x3)*(y1-y3)-(y4-y3)*(x1-x3))/((y4-y3)*(x2-x1)-(x4-x3)*(y2-y1))\n",
    "        ub=float((x2-x1)*(y1-y3)-(y2-y1)*(x1-x3))/((y4-y3)*(x2-x1)-(x4-x3)*(y2-y1))\n",
    "        print(ua)\n",
    "        print(x1+ua*(x2-x1))\n",
    "        return self.value\n",
    "   "
   ]
  },
  {
   "cell_type": "code",
   "execution_count": 134,
   "metadata": {
    "collapsed": true
   },
   "outputs": [],
   "source": [
    "def LinearEquation(x1, y1, x2, y2, x3, y3,x4,y4):\n",
    "    denominator=((y4-y3)*(x2-x1)-(x4-x3)*(y2-y1))\n",
    "    if denominator!=0:\n",
    "        ua=float((x4-x3)*(y1-y3)-(y4-y3)*(x1-x3))/((y4-y3)*(x2-x1)-(x4-x3)*(y2-y1))\n",
    "        ub=float((x2-x1)*(y1-y3)-(y2-y1)*(x1-x3))/((y4-y3)*(x2-x1)-(x4-x3)*(y2-y1))\n",
    "        print(x1+ua*(x2-x1))\n",
    "        print(y1+ub*(y2-y1))\n",
    "        return ua,ub\n",
    "    else:\n",
    "        return \"nointersect\"\n",
    "LinearEquation(1,1,1,1,1,1,1,1)"
   ]
  },
  {
   "cell_type": "code",
   "execution_count": 135,
   "metadata": {
    "collapsed": false
   },
   "outputs": [
    {
     "data": {
      "text/plain": [
       "'nointersect'"
      ]
     },
     "execution_count": 135,
     "metadata": {},
     "output_type": "execute_result"
    }
   ],
   "source": [
    "LinearEquation(1,1,1,1,1,1,1,1)"
   ]
  },
  {
   "cell_type": "code",
   "execution_count": null,
   "metadata": {
    "collapsed": true
   },
   "outputs": [],
   "source": []
  }
 ],
 "metadata": {
  "anaconda-cloud": {},
  "kernelspec": {
   "display_name": "Python 3",
   "language": "python",
   "name": "python3"
  },
  "language_info": {
   "codemirror_mode": {
    "name": "ipython",
    "version": 3
   },
   "file_extension": ".py",
   "mimetype": "text/x-python",
   "name": "python",
   "nbconvert_exporter": "python",
   "pygments_lexer": "ipython3",
   "version": "3.5.2"
  }
 },
 "nbformat": 4,
 "nbformat_minor": 1
}

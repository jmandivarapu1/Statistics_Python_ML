{
 "cells": [
  {
   "cell_type": "code",
   "execution_count": 33,
   "metadata": {
    "collapsed": false
   },
   "outputs": [],
   "source": [
    "def createMatrix(rowCount, colCount, dataList):\n",
    "    mat = []\n",
    "    for i in range(rowCount):\n",
    "        rowList = []\n",
    "        for j in range(colCount):\n",
    "            # you need to increment through dataList here, like this:\n",
    "            rowList.append(dataList[rowCount * i + j])\n",
    "        mat.append(rowList)\n",
    "\n",
    "    return mat"
   ]
  },
  {
   "cell_type": "code",
   "execution_count": 37,
   "metadata": {
    "collapsed": false
   },
   "outputs": [
    {
     "name": "stdout",
     "output_type": "stream",
     "text": [
      "[[0.15, 0.875, 0.375], [-0.55, 0.005, 0.225], [0.3, 0.12, 0.4]]\n"
     ]
    }
   ],
   "source": [
    "alpha = [0.15, 0.875,0.375,-0.55,0.005,0.225,0.30,0.12,0.4]\n",
    "mat = createMatrix(3,3,alpha)\n",
    "print (mat)"
   ]
  },
  {
   "cell_type": "code",
   "execution_count": 54,
   "metadata": {
    "collapsed": false
   },
   "outputs": [
    {
     "name": "stdout",
     "output_type": "stream",
     "text": [
      "0 0\n",
      "0 1\n",
      "0 2\n",
      "1 0\n",
      "-0.55\n",
      "1 1\n",
      "1 2\n",
      "2 0\n",
      "2 1\n",
      "2 2\n"
     ]
    }
   ],
   "source": [
    "for i in range(0,3):\n",
    "    sum1=0\n",
    "    break1=0\n",
    "    if break1==1:\n",
    "        break\n",
    "    for j in range(0,3):\n",
    "        sum1=sum1+ mat[i][j]\n",
    "        print(i,j)\n",
    "        if mat[i][j]<0:\n",
    "            print(mat[i][j])\n",
    "            break1=1\n",
    "        if j==3 and sum1!=1:\n",
    "            break\n",
    "                "
   ]
  },
  {
   "cell_type": "code",
   "execution_count": null,
   "metadata": {
    "collapsed": true
   },
   "outputs": [],
   "source": []
  },
  {
   "cell_type": "code",
   "execution_count": null,
   "metadata": {
    "collapsed": true
   },
   "outputs": [],
   "source": []
  }
 ],
 "metadata": {
  "anaconda-cloud": {},
  "kernelspec": {
   "display_name": "Python 3",
   "language": "python",
   "name": "python3"
  },
  "language_info": {
   "codemirror_mode": {
    "name": "ipython",
    "version": 3
   },
   "file_extension": ".py",
   "mimetype": "text/x-python",
   "name": "python",
   "nbconvert_exporter": "python",
   "pygments_lexer": "ipython3",
   "version": "3.5.2"
  }
 },
 "nbformat": 4,
 "nbformat_minor": 1
}

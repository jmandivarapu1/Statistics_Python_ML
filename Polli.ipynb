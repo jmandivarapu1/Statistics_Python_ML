{
 "cells": [
  {
   "cell_type": "code",
   "execution_count": null,
   "metadata": {
    "collapsed": true
   },
   "outputs": [],
   "source": [
    "7.9 (Geometry: intersection) \n",
    "\n",
    "Suppose two line segments intersect. The two endpoints for the first \n",
    "line segment are (x1, y1) and (x2, y2) and for the second line segment \n",
    "are (x3, y3) and (x4, y4). Write a program that prompts the user to enter \n",
    "these four endpoints and displays the intersecting point. \n",
    "\n",
    " \n",
    "(Hint: Use the LinearEquation class from Exercise 7.7.)\n",
    "\n",
    "   ax + by = e\n",
    "   cx + dy = f\n",
    "      \n",
    "   x = (ed - bf) / (ad - bc)\n",
    " \n",
    "   y = (af - ec) / (ad - bc) "
   ]
  },
  {
   "cell_type": "code",
   "execution_count": 1,
   "metadata": {
    "collapsed": false
   },
   "outputs": [
    {
     "ename": "SyntaxError",
     "evalue": "invalid character in identifier (<ipython-input-1-24fb001ea9a0>, line 2)",
     "output_type": "error",
     "traceback": [
      "\u001b[0;36m  File \u001b[0;32m\"<ipython-input-1-24fb001ea9a0>\"\u001b[0;36m, line \u001b[0;32m2\u001b[0m\n\u001b[0;31m    def __init__(self, a, b, c, d, e, f):\u001b[0m\n\u001b[0m    ^\u001b[0m\n\u001b[0;31mSyntaxError\u001b[0m\u001b[0;31m:\u001b[0m invalid character in identifier\n"
     ]
    }
   ],
   "source": [
    "class LinearEquation:\n",
    "    def __init__(self, a, b, c, d, e, f):\n",
    "        self.__a = a\n",
    "        self.__b = b\n",
    "        self.__c = c\n",
    "        self.__d = d\n",
    "        self.__e = e\n",
    "        self.__f = f\n",
    "               \n",
    "    def get_a(self):\n",
    "        return self.__a   \n",
    "    \n",
    "    def get_b(self):\n",
    "        return self.__b\n",
    "    \n",
    "    def get_c(self):\n",
    "        return self.__c\n",
    "    \n",
    "    def get_d(self):\n",
    "        return self.__d\n",
    "    \n",
    "    def get_e(self):\n",
    "        return self.__e\n",
    "    \n",
    "    def get_f(self):\n",
    "        return self.__f\n",
    "    \n",
    "    def get_x(self):\n",
    "        return ((self.__e * self.__d) - (self.__b * self.__f)) /((self.__a * self.__d) - (self.__b * self.__c))\n",
    "    \n",
    "    def get_y(self):\n",
    "        return ((self.__a * self.__f) - (self.__e * self.__c)) /((self.__a * self.__d) - (self.__b * self.__c))\n"
   ]
  },
  {
   "cell_type": "code",
   "execution_count": 35,
   "metadata": {
    "collapsed": false
   },
   "outputs": [
    {
     "name": "stdout",
     "output_type": "stream",
     "text": [
      "Enter number of rows in list :3\n",
      "Enter a row :222 4444 66\n",
      "Enter a row :3 4 5\n",
      "Enter a row :6 7 8\n",
      "0 0 222\n",
      "0 1 4444\n",
      "0 2 66\n",
      "1 0 3\n",
      "1 1 4\n",
      "1 2 5\n",
      "2 0 6\n",
      "2 1 7\n",
      "2 2 8\n"
     ]
    },
    {
     "data": {
      "text/plain": [
       "'(0,1)'"
      ]
     },
     "execution_count": 35,
     "metadata": {},
     "output_type": "execute_result"
    }
   ],
   "source": [
    "FullList = []\n",
    "list2=[]\n",
    "#Taking the Input from the user\n",
    "numOfRow = int(input(\"Enter number of rows in list :\"))\n",
    "for i in range(0,numOfRow):\n",
    "    input1 =input(\"Enter a row :\") \n",
    "    list1 = input1.split(\" \") \n",
    "    list2.append(list1)\n",
    "    FullList.append(list1)\n",
    "#Now we are finding the maximum value from the lists entered by user\n",
    "#BY going through all the list\n",
    "max1=0\n",
    "maxvalue=\"\"\n",
    "for i, row in enumerate(list2):\n",
    "    for j, x in enumerate(row):\n",
    "        print(i ,j , x)\n",
    "        if(int(x)>int(max1)):\n",
    "            max1=x\n",
    "            max_value=\"(\"+str(i)+\",\"+str(j)+\")\"\n",
    "print(max1)\n",
    "print(max_value)\n",
    "\n"
   ]
  },
  {
   "cell_type": "code",
   "execution_count": 37,
   "metadata": {
    "collapsed": false
   },
   "outputs": [
    {
     "data": {
      "text/plain": [
       "2"
      ]
     },
     "execution_count": 37,
     "metadata": {},
     "output_type": "execute_result"
    }
   ],
   "source": [
    "def gcd(a, b):\n",
    "    if a%b == 0:\n",
    "        return b\n",
    "    return gcd(b, a%b)\n",
    "gcd(4,2)"
   ]
  },
  {
   "cell_type": "code",
   "execution_count": 68,
   "metadata": {
    "collapsed": false
   },
   "outputs": [
    {
     "name": "stdout",
     "output_type": "stream",
     "text": [
      "Enter number of students 3\n",
      "Enter student name and grade by giving space between them :Jay 100\n",
      "Enter student name and grade by giving space between them :k 1000\n",
      "Enter student name and grade by giving space between them :m 999\n",
      "k\n",
      "m\n",
      "Jay\n"
     ]
    }
   ],
   "source": [
    "list2=[]\n",
    "#Taking the Input from the user\n",
    "numOfRow = int(input(\"Enter number of students \"))\n",
    "for i in range(0,numOfRow):\n",
    "    input1 =input(\"Enter student name and grade by giving space between them :\") \n",
    "    list1 = input1.split(\" \") \n",
    "    list2.append(list1)\n",
    "# sorting list\n",
    "list2.sort(key=lambda x: int(x[1]),reverse=True)\n",
    "print(\"Name of students according to thier highest scores\")\n",
    "for item in list2:\n",
    "    print(item[0])"
   ]
  },
  {
   "cell_type": "code",
   "execution_count": 66,
   "metadata": {
    "collapsed": false
   },
   "outputs": [
    {
     "data": {
      "text/plain": [
       "[['Jay', '100'], ['M', '99'], ['K', '23']]"
      ]
     },
     "execution_count": 66,
     "metadata": {},
     "output_type": "execute_result"
    }
   ],
   "source": [
    "list2"
   ]
  },
  {
   "cell_type": "code",
   "execution_count": null,
   "metadata": {
    "collapsed": true
   },
   "outputs": [],
   "source": []
  }
 ],
 "metadata": {
  "anaconda-cloud": {},
  "kernelspec": {
   "display_name": "Python 3",
   "language": "python",
   "name": "python3"
  },
  "language_info": {
   "codemirror_mode": {
    "name": "ipython",
    "version": 3
   },
   "file_extension": ".py",
   "mimetype": "text/x-python",
   "name": "python",
   "nbconvert_exporter": "python",
   "pygments_lexer": "ipython3",
   "version": "3.5.2"
  }
 },
 "nbformat": 4,
 "nbformat_minor": 1
}

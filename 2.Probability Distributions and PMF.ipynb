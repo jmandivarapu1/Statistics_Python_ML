{
 "cells": [
  {
   "cell_type": "markdown",
   "metadata": {},
   "source": [
    "#### Discrete Random Variable:\n",
    "    A voice communication system for a business contains 48 external lines. At a par-\n",
    "    ticular time, the system is observed, and some of the lines are being used. Let the random variable X denote the number of lines in use. Then X can assume any of the integer values 0 through 48. When the system is observed, if 10 lines are in use, x = 10."
   ]
  },
  {
   "cell_type": "markdown",
   "metadata": {},
   "source": [
    "#### Why:\n",
    "    \n",
    "Random variables are so important in random experiments that sometimes we essentially ignore the original sample space of the experiment and focus on the probability distribution of the random variable. For example, in Example 3-1, our analysis might focus exclusively on the integers {0, 1, . . . , 48} in the range of X."
   ]
  },
  {
   "cell_type": "markdown",
   "metadata": {},
   "source": [
    "### What is Probability Distribution?\n",
    "\n",
    "The probability distribution of a random variable X is a description of the probabilities associated with the possible values of X. For a discrete random variable, the distribution is often speci ed by just a list of the possible values along with the probability of each. In some cases, it is convenient to express the probability in terms of a formula."
   ]
  },
  {
   "cell_type": "code",
   "execution_count": 3,
   "metadata": {},
   "outputs": [
    {
     "name": "stdout",
     "output_type": "stream",
     "text": [
      "┌───┬───────┬─────┐\n",
      "│ 1 │     2 │  30 │\n",
      "├───┼───────┼─────┤\n",
      "│ 4 │ 23125 │   6 │\n",
      "├───┼───────┼─────┤\n",
      "│ 7 │     8 │ 999 │\n",
      "└───┴───────┴─────┘\n"
     ]
    }
   ],
   "source": [
    "import tabletext\n",
    "\n",
    "data = [[1,2,30],\n",
    "        [4,23125,6],\n",
    "        [7,8,999],\n",
    "        ]\n",
    "\n",
    "print (tabletext.to_text(data))"
   ]
  },
  {
   "cell_type": "markdown",
   "metadata": {},
   "source": [
    "\n",
    "| Name | Description | age         \n",
    "| :- |-------------: | :-:\n",
    "|Mary| She is a nice girl.  | 20\n",
    "| Jackie Junior | He is a very naughty boy. | 5"
   ]
  },
  {
   "cell_type": "code",
   "execution_count": 19,
   "metadata": {
    "collapsed": true
   },
   "outputs": [],
   "source": [
    "from IPython.display import Image,HTML"
   ]
  },
  {
   "cell_type": "code",
   "execution_count": 45,
   "metadata": {},
   "outputs": [
    {
     "data": {
      "text/html": [
       "<table border=\"1\" class=\"dataframe\">\n",
       "  <thead>\n",
       "    <tr style=\"text-align: right;\">\n",
       "      <th></th>\n",
       "      <th>Image</th>\n",
       "    </tr>\n",
       "  </thead>\n",
       "  <tbody>\n",
       "    <tr>\n",
       "      <th>0</th>\n",
       "      <td><img src=\"./Images/Baye.jpg\"/></td>\n",
       "    </tr>\n",
       "    <tr>\n",
       "      <th>1</th>\n",
       "      <td>./Images/Baye.jpg</td>\n",
       "    </tr>\n",
       "  </tbody>\n",
       "</table>"
      ],
      "text/plain": [
       "<IPython.core.display.HTML object>"
      ]
     },
     "execution_count": 45,
     "metadata": {},
     "output_type": "execute_result"
    }
   ],
   "source": [
    "import pandas as pd\n",
    "from IPython.display import Image, HTML\n",
    "\n",
    "df = pd.DataFrame(['<img src=\"./Images/Baye.jpg\"/>', './Images/Baye.jpg'], columns = ['Image'])\n",
    "\n",
    "HTML(df.to_html(escape=False))"
   ]
  },
  {
   "cell_type": "code",
   "execution_count": 37,
   "metadata": {},
   "outputs": [
    {
     "data": {
      "text/html": [
       "<table border=\"1\" class=\"dataframe\">\n",
       "  <thead>\n",
       "    <tr style=\"text-align: right;\">\n",
       "      <th></th>\n",
       "      <th>Image</th>\n",
       "    </tr>\n",
       "  </thead>\n",
       "  <tbody>\n",
       "    <tr>\n",
       "      <th>./Images/Baye.jpg</th>\n",
       "      <td><img src=\"./Images/Baye.jpg\"/></td>\n",
       "    </tr>\n",
       "  </tbody>\n",
       "</table>"
      ],
      "text/plain": [
       "<IPython.core.display.HTML object>"
      ]
     },
     "execution_count": 37,
     "metadata": {},
     "output_type": "execute_result"
    }
   ],
   "source": [
    "import pandas as pd\n",
    "from IPython.display import Image, HTML\n",
    "\n",
    "df = pd.DataFrame(['./Images/Baye.jpg'],['./Images/Baye.jpg'], columns = ['Image'])\n",
    "\n",
    "def path_to_image_html(path):\n",
    "    return '<img src=\"'+ path + '\"/>'\n",
    "\n",
    "pd.set_option('display.max_colwidth', -1)\n",
    "\n",
    "HTML(df.to_html(escape=False ,formatters=dict(Image=path_to_image_html)))\n"
   ]
  },
  {
   "cell_type": "code",
   "execution_count": 56,
   "metadata": {},
   "outputs": [
    {
     "data": {
      "text/html": [
       "<table border=\"1\" class=\"dataframe\">\n",
       "  <thead>\n",
       "    <tr style=\"text-align: right;\">\n",
       "      <th></th>\n",
       "      <th>a</th>\n",
       "      <th>b</th>\n",
       "    </tr>\n",
       "  </thead>\n",
       "  <tbody>\n",
       "    <tr>\n",
       "      <th>0</th>\n",
       "      <td><img src=\"./Images/Baye.jpg\"/></td>\n",
       "      <td>2</td>\n",
       "    </tr>\n",
       "    <tr>\n",
       "      <th>1</th>\n",
       "      <td>5</td>\n",
       "      <td>3</td>\n",
       "    </tr>\n",
       "    <tr>\n",
       "      <th>2</th>\n",
       "      <td>6</td>\n",
       "      <td>4</td>\n",
       "    </tr>\n",
       "  </tbody>\n",
       "</table>"
      ],
      "text/plain": [
       "<IPython.core.display.HTML object>"
      ]
     },
     "execution_count": 56,
     "metadata": {},
     "output_type": "execute_result"
    }
   ],
   "source": [
    "z=5\n",
    "c=['<img src=\"./Images/Baye.jpg\"/>',z,6]\n",
    "df = pd.DataFrame({'a': c, 'b': [2,3,4]})\n",
    "HTML(df.to_html(escape=False))"
   ]
  },
  {
   "cell_type": "code",
   "execution_count": 93,
   "metadata": {},
   "outputs": [],
   "source": [
    "DRV_Def='Definition'\n",
    "DRV_Probability_Distributions='The probability distribution of a random variable X is a description of the probabilities associated with the possible values of X'\n",
    "DRV_Probability_Mass_Functions='<img src=\"./Images/DRV_PMF.jpg\"/>'\n",
    "DRV_Cumulative_Distribution_Function='An alternate method for describing a random variable’s probability distribution is with cumu- lative probabilities such as P(X ≤ x). Furthermore, cumulative probabilities can be used to  nd the probability mass function of a discrete random variable. '\n",
    "DRV_CDF_EG='<img src=\"./Images/DRV_CDF_EG.jpg\"/>'\n",
    "DRV_Mean='The mean is a measure of the center or middle of the probability distribution'\n",
    "DRV_Variance='variance is a measure of the dispersion, or variability in the distribution.'\n",
    "DRV_Mean_Var='<img src=\"./Images/DRV_Mean_SD_Var.jpg\"/>'\n",
    "DRV_Distributions='Binominal'"
   ]
  },
  {
   "cell_type": "code",
   "execution_count": 88,
   "metadata": {
    "collapsed": true
   },
   "outputs": [],
   "source": [
    "CRV_Def='Definition'\n",
    "CRV_Probability_Distributions='PD'\n",
    "CRV_Probability_Mass_Functions='PMF'\n",
    "CRV_Mean='Mean'\n",
    "CRV_Variance='Variance'\n",
    "CRV_Distributions='Binominal'"
   ]
  },
  {
   "cell_type": "code",
   "execution_count": 94,
   "metadata": {},
   "outputs": [
    {
     "data": {
      "text/html": [
       "<table border=\"1\" class=\"dataframe\">\n",
       "  <thead>\n",
       "    <tr style=\"text-align: right;\">\n",
       "      <th></th>\n",
       "      <th>Continuous Random Variables</th>\n",
       "      <th>Discrete Random Variables</th>\n",
       "    </tr>\n",
       "  </thead>\n",
       "  <tbody>\n",
       "    <tr>\n",
       "      <th>0</th>\n",
       "      <td>Definition</td>\n",
       "      <td>Definition</td>\n",
       "    </tr>\n",
       "    <tr>\n",
       "      <th>1</th>\n",
       "      <td>The probability distribution of a random variable X is a description of the probabilities associated with the possible values of X</td>\n",
       "      <td>The probability distribution of a random variable X is a description of the probabilities associated with the possible values of X</td>\n",
       "    </tr>\n",
       "    <tr>\n",
       "      <th>2</th>\n",
       "      <td><img src=\"./Images/DRV_PMF.jpg\"/></td>\n",
       "      <td><img src=\"./Images/DRV_PMF.jpg\"/></td>\n",
       "    </tr>\n",
       "    <tr>\n",
       "      <th>3</th>\n",
       "      <td>An alternate method for describing a random variable’s probability distribution is with cumu- lative probabilities such as P(X ≤ x). Furthermore, cumulative probabilities can be used to  nd the probability mass function of a discrete random variable.</td>\n",
       "      <td>An alternate method for describing a random variable’s probability distribution is with cumu- lative probabilities such as P(X ≤ x). Furthermore, cumulative probabilities can be used to  nd the probability mass function of a discrete random variable.</td>\n",
       "    </tr>\n",
       "    <tr>\n",
       "      <th>4</th>\n",
       "      <td>The mean is a measure of the center or middle of the probability distribution</td>\n",
       "      <td>The mean is a measure of the center or middle of the probability distribution</td>\n",
       "    </tr>\n",
       "    <tr>\n",
       "      <th>5</th>\n",
       "      <td>variance is a measure of the dispersion, or variability in the distribution.</td>\n",
       "      <td>variance is a measure of the dispersion, or variability in the distribution.</td>\n",
       "    </tr>\n",
       "    <tr>\n",
       "      <th>6</th>\n",
       "      <td>Binominal</td>\n",
       "      <td>Binominal</td>\n",
       "    </tr>\n",
       "  </tbody>\n",
       "</table>"
      ],
      "text/plain": [
       "<IPython.core.display.HTML object>"
      ]
     },
     "execution_count": 94,
     "metadata": {},
     "output_type": "execute_result"
    }
   ],
   "source": [
    "a=[DRV_Def,DRV_Probability_Distributions,DRV_Probability_Mass_Functions,DRV_Cumulative_Distribution_Function,DRV_Mean,DRV_Variance,DRV_Distributions]\n",
    "b=[DRV_Def,DRV_Probability_Distributions,DRV_Probability_Mass_Functions,DRV_Cumulative_Distribution_Function,DRV_Mean,DRV_Variance,DRV_Distributions]\n",
    "\n",
    "df = pd.DataFrame({'Continuous Random Variables': b,'Discrete Random Variables': a})\n",
    "HTML(df.to_html(escape=False))"
   ]
  },
  {
   "cell_type": "code",
   "execution_count": null,
   "metadata": {
    "collapsed": true
   },
   "outputs": [],
   "source": []
  }
 ],
 "metadata": {
  "kernelspec": {
   "display_name": "Python 3",
   "language": "python",
   "name": "python3"
  },
  "language_info": {
   "codemirror_mode": {
    "name": "ipython",
    "version": 3
   },
   "file_extension": ".py",
   "mimetype": "text/x-python",
   "name": "python",
   "nbconvert_exporter": "python",
   "pygments_lexer": "ipython3",
   "version": "3.6.1"
  }
 },
 "nbformat": 4,
 "nbformat_minor": 2
}
